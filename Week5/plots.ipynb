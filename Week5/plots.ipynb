{
 "cells": [
  {
   "cell_type": "markdown",
   "metadata": {},
   "source": [
    "# Examples - Visualisation with Pandas"
   ]
  },
  {
   "cell_type": "code",
   "execution_count": null,
   "metadata": {},
   "outputs": [],
   "source": [
    "# imports\n",
    "\n",
    "import pandas as P"
   ]
  },
  {
   "cell_type": "markdown",
   "metadata": {},
   "source": [
    "## Loading and preprocessing data"
   ]
  },
  {
   "cell_type": "code",
   "execution_count": null,
   "metadata": {},
   "outputs": [],
   "source": [
    "# human-friendly variable names\n",
    "column_names = ['age', 'sex', 'pain', 'blood_pressure',\n",
    "                'cholesterol', 'blood_sugar', 'resting_ECG', 'max_heart_rate',\n",
    "                'induced_angina', 'induced_ST_depression',\n",
    "                'slope', 'coloured_vessels', 'thal', 'disease']\n",
    "\n",
    "# 'Heart Disease' data set\n",
    "heart = P.read_table('heart.dat', sep=\" \", names=column_names)"
   ]
  },
  {
   "cell_type": "code",
   "execution_count": null,
   "metadata": {},
   "outputs": [],
   "source": [
    "# categorical variables and their human-friendly values\n",
    "categorical = {\n",
    "    'sex': ('female', 'male'),\n",
    "    'pain': ('typical', 'atypical', 'non-anginal', 'asymptomatic'),\n",
    "    'blood_sugar': ('no', 'yes'),\n",
    "    'resting_ECG': ('normal', 'abnormality', 'hypertrophy'),\n",
    "    'induced_angina': ('no', 'yes'),\n",
    "    'thal': ('normal', 'fixed', 'reversable'),\n",
    "    'slope': ('upsloping', 'flat', 'downsloping'),\n",
    "    'disease': ('no', 'yes'),\n",
    "    }\n",
    "\n",
    "# update dataframe to make variables categorical\n",
    "for column in categorical:\n",
    "    s = P.Categorical(heart[column]).rename_categories(categorical[column])\n",
    "    heart[column] = s\n",
    "# use integers for 'coloured vessels' because they are counts\n",
    "heart.coloured_vessels = heart.coloured_vessels.astype('int')\n",
    "\n",
    "# show the first few observations\n",
    "heart.head()"
   ]
  },
  {
   "cell_type": "markdown",
   "metadata": {},
   "source": [
    "## Bar plots"
   ]
  },
  {
   "cell_type": "code",
   "execution_count": null,
   "metadata": {},
   "outputs": [],
   "source": [
    "# a bar plot of 'pain' (nominal)\n",
    "heart.pain.value_counts().plot.bar(title=\"Pain type\", ylabel=\"Frequency\")"
   ]
  },
  {
   "cell_type": "code",
   "execution_count": null,
   "metadata": {},
   "outputs": [],
   "source": [
    "# a bar plot of 'coloured vessels' (discrete quantitative)\n",
    "counts = heart.coloured_vessels.value_counts()\n",
    "counts.plot.bar(title=\"Coloured vessel count\", ylabel=\"Frequency\")"
   ]
  },
  {
   "cell_type": "code",
   "execution_count": null,
   "metadata": {},
   "outputs": [],
   "source": [
    "# a table of the frequencies of 'sex'-'pain' combinations\n",
    "counts = heart.groupby(['sex','pain']).size().unstack()\n",
    "counts"
   ]
  },
  {
   "cell_type": "code",
   "execution_count": null,
   "metadata": {},
   "outputs": [],
   "source": [
    "# a bar plot with bars side-by-side\n",
    "counts.plot.bar(title=\"Pain type\", ylabel=\"Frequency\")"
   ]
  },
  {
   "cell_type": "code",
   "execution_count": null,
   "metadata": {},
   "outputs": [],
   "source": [
    "# a bar plot with bars above each other\n",
    "counts.plot.bar(title=\"Pain type\", ylabel=\"Frequency\", stacked=True)"
   ]
  },
  {
   "cell_type": "code",
   "execution_count": null,
   "metadata": {},
   "outputs": [],
   "source": [
    "# since the groups are of different sizes, the plot of\n",
    "# relative frequencies may be more informative\n",
    "\n",
    "# totals by value of 'sex' (i.e. sums over columns)\n",
    "totals = counts.sum(axis=1)\n",
    "# relative frequencies per value of 'sex'\n",
    "# (i.e. divide each element by the total that corresponds to its row name)\n",
    "relative_counts = counts.div(totals, axis=0)\n",
    "relative_counts.plot.bar(title=\"Pain type\", ylabel=\"Frequency\")"
   ]
  },
  {
   "cell_type": "markdown",
   "metadata": {},
   "source": [
    "## Histograms"
   ]
  },
  {
   "cell_type": "code",
   "execution_count": null,
   "metadata": {},
   "outputs": [],
   "source": [
    "# a histogram of 'age'\n",
    "# (the number of intervals determined by an algorithm)\n",
    "heart.age.plot.hist(title=\"Age\", xlabel=\"Age\")"
   ]
  },
  {
   "cell_type": "code",
   "execution_count": null,
   "metadata": {},
   "outputs": [],
   "source": [
    "# a histogram with fewer intervals\n",
    "heart.age.plot.hist(bins=5, title=\"Age\", xlabel=\"Age\")"
   ]
  },
  {
   "cell_type": "code",
   "execution_count": null,
   "metadata": {},
   "outputs": [],
   "source": [
    "# a histogram with more intervals\n",
    "heart.age.plot.hist(bins=35, title=\"Age\", xlabel=\"Age\")\n",
    "\n",
    "# Note how the level of details (and noise) changes.\n",
    "# Note also how the histogram reveals the gaps in the\n",
    "# observed ages."
   ]
  },
  {
   "cell_type": "code",
   "execution_count": null,
   "metadata": {},
   "outputs": [],
   "source": [
    "# a histogram of 'age' for each value of 'sex'\n",
    "heart.groupby(['sex']).age.plot.hist(bins=11, range=(25,80),\n",
    "                                     alpha=0.5, legend=True)"
   ]
  },
  {
   "cell_type": "markdown",
   "metadata": {},
   "source": [
    "## Box plots"
   ]
  },
  {
   "cell_type": "code",
   "execution_count": null,
   "metadata": {},
   "outputs": [],
   "source": [
    "# a box plot of 'age' (over the whole data)\n",
    "heart.age.plot.box(title=\"Age\", xlabel=\"Age\")"
   ]
  },
  {
   "cell_type": "code",
   "execution_count": null,
   "metadata": {
    "scrolled": false
   },
   "outputs": [],
   "source": [
    "# a box plot of 'age' for each value of 'sex'\n",
    "heart.groupby('sex').boxplot(column='age', grid=False)"
   ]
  },
  {
   "cell_type": "markdown",
   "metadata": {},
   "source": [
    "## Scatter plots"
   ]
  },
  {
   "cell_type": "code",
   "execution_count": null,
   "metadata": {},
   "outputs": [],
   "source": [
    "# a scatter plot of 'blood pressure' vs. 'cholesterol'\n",
    "heart.plot.scatter('blood_pressure','cholesterol',\n",
    "                   title=\"Blood pressure vs. serum cholesterol\",\n",
    "                   xlabel=\"Blood pressure\",\n",
    "                   ylabel=\"Serum cholesterol (mg/dl)\",\n",
    "                   figsize=(8,8))"
   ]
  },
  {
   "cell_type": "code",
   "execution_count": null,
   "metadata": {},
   "outputs": [],
   "source": [
    "# scatter plots of all pairs of quantitative variables\n",
    "# (the assignment suppresses a long output but not the plot itself)\n",
    "dontprint = P.plotting.scatter_matrix(heart, figsize=(12,12))\n",
    "\n",
    "# Age seems to be slightly correlated (linearly) to maximum\n",
    "# heart rate. It is difficult to see, though, because there\n",
    "# is a lot of variation."
   ]
  }
 ],
 "metadata": {
  "kernelspec": {
   "display_name": "Python 3",
   "language": "python",
   "name": "python3"
  },
  "language_info": {
   "codemirror_mode": {
    "name": "ipython",
    "version": 3
   },
   "file_extension": ".py",
   "mimetype": "text/x-python",
   "name": "python",
   "nbconvert_exporter": "python",
   "pygments_lexer": "ipython3",
   "version": "3.7.3"
  }
 },
 "nbformat": 4,
 "nbformat_minor": 4
}
