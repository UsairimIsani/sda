{
 "cells": [
  {
   "cell_type": "markdown",
   "metadata": {},
   "source": [
    "# Statistical Data Analysis \n",
    "## Week # 3\n"
   ]
  },
  {
   "cell_type": "markdown",
   "metadata": {},
   "source": [
    "In this exercise we consider articles\n",
    " \n",
    "Article 4: X. Xing et al., Decoding the multicellular ecosystem of lung adenocarcinoma\n",
    "manifested as pulmonary subsolid nodules by single-cell RNA sequencing, PMID: 33571124\n",
    "\n",
    "Article 5: L.L. Liang et al., Covid‐19 mortality is negatively associated with test number and\n",
    "government effectiveness, PMID: 32709854\n",
    "\n",
    "Identify type of variables and methods used to create\n",
    "\n",
    "1. Article_4 and Figure 3 (J).\n",
    "2. Article_5 and Figure 1."
   ]
  },
  {
   "cell_type": "markdown",
   "metadata": {},
   "source": [
    "1.  two-sided unpaired Kruskal-Wallis rank sum test - Not normal distributions\n",
    "\n",
    "average of average of gene expression read the article to understand \n",
    "cummulative probability function "
   ]
  },
  {
   "cell_type": "code",
   "execution_count": null,
   "metadata": {},
   "outputs": [],
   "source": []
  },
  {
   "cell_type": "markdown",
   "metadata": {},
   "source": [
    "2. Correlation - Maybe spearman? Pearson - Normal assumption and linear regression kind of gives it away as pearson"
   ]
  }
 ],
 "metadata": {
  "kernelspec": {
   "display_name": "Python 3.9.12 ('base')",
   "language": "python",
   "name": "python3"
  },
  "language_info": {
   "name": "python",
   "version": "3.9.12"
  },
  "orig_nbformat": 4,
  "vscode": {
   "interpreter": {
    "hash": "d42dc6fcedbd3a87c2809a9053f4ea931977311ad3cd7f56b541a56ded475685"
   }
  }
 },
 "nbformat": 4,
 "nbformat_minor": 2
}
