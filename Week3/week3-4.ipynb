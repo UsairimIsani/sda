{
 "cells": [
  {
   "cell_type": "markdown",
   "metadata": {},
   "source": [
    "# Statistical Data Analysis\n",
    "## Week # 3"
   ]
  },
  {
   "cell_type": "markdown",
   "metadata": {},
   "source": [
    "Which multiple correction methods are used (if any) in Articles 1-5?"
   ]
  },
  {
   "cell_type": "markdown",
   "metadata": {},
   "source": [
    "article 2 - figure 4,7  benferroni correction\n",
    "article 4 - figure 4  Benjamini-Hochberg–corrected "
   ]
  }
 ],
 "metadata": {
  "kernelspec": {
   "display_name": "Python 3.9.12 ('base')",
   "language": "python",
   "name": "python3"
  },
  "language_info": {
   "codemirror_mode": {
    "name": "ipython",
    "version": 3
   },
   "file_extension": ".py",
   "mimetype": "text/x-python",
   "name": "python",
   "nbconvert_exporter": "python",
   "pygments_lexer": "ipython3",
   "version": "3.9.12"
  },
  "orig_nbformat": 4,
  "vscode": {
   "interpreter": {
    "hash": "d42dc6fcedbd3a87c2809a9053f4ea931977311ad3cd7f56b541a56ded475685"
   }
  }
 },
 "nbformat": 4,
 "nbformat_minor": 2
}
