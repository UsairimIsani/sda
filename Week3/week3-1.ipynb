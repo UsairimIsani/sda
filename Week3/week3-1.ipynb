{
 "cells": [
  {
   "cell_type": "markdown",
   "metadata": {},
   "source": [
    "# Statistical Data Analysis \n",
    "## Week # 3\n"
   ]
  },
  {
   "cell_type": "markdown",
   "metadata": {},
   "source": [
    "### Question # 1 \n",
    "Apply a multivariable test and obtain P-value for\n",
    "\n",
    "1. 2,3,5,4,4,3 4,2,3,5,2,3 3,1,4,4,3,5\n",
    "\n",
    "2. Fi,Sw,Fi,No,Sw,Fi No,Sw,No,Fi,Fi,Fi Sw,Fi,No,Sw,Sw,No"
   ]
  },
  {
   "cell_type": "markdown",
   "metadata": {},
   "source": []
  },
  {
   "cell_type": "code",
   "execution_count": 19,
   "metadata": {},
   "outputs": [],
   "source": [
    "import pandas as pd\n",
    "import statsmodels\n",
    "import math\n",
    "import numpy as np\n",
    "from scipy.stats import shapiro, f_oneway, chi2_contingency\n",
    "import matplotlib.pyplot as plt"
   ]
  },
  {
   "cell_type": "code",
   "execution_count": 20,
   "metadata": {},
   "outputs": [],
   "source": [
    "\n",
    "a = 2,3,5,4,4,3 \n",
    "b = 4,2,3,5,2,3 \n",
    "c = 3,1,4,4,3,5\n",
    "\n",
    "data = pd.DataFrame({\"dataset1\":a,\"dataset2\":b,\"dataset3\":c})\n"
   ]
  },
  {
   "cell_type": "code",
   "execution_count": 21,
   "metadata": {},
   "outputs": [
    {
     "data": {
      "text/plain": [
       "dataset1    0.820087\n",
       "dataset2    0.420659\n",
       "dataset3    0.554380\n",
       "dtype: float64"
      ]
     },
     "execution_count": 21,
     "metadata": {},
     "output_type": "execute_result"
    }
   ],
   "source": [
    "data.apply(lambda x: shapiro(x)[1])"
   ]
  },
  {
   "cell_type": "code",
   "execution_count": 22,
   "metadata": {},
   "outputs": [],
   "source": [
    "modified_data = pd.melt(data,value_vars=['dataset1','dataset2','dataset3'])\n",
    "modified_data.columns=['dataset','value']"
   ]
  },
  {
   "cell_type": "code",
   "execution_count": 23,
   "metadata": {},
   "outputs": [],
   "source": [
    "# Can't make it work statsmodel doesn't have formula\n",
    "# model=statsmodels.formula.api.ols('value~C(dataset)',data=modified_data).fit()"
   ]
  },
  {
   "cell_type": "code",
   "execution_count": 24,
   "metadata": {},
   "outputs": [
    {
     "data": {
      "text/plain": [
       "0.8918065510154998"
      ]
     },
     "execution_count": 24,
     "metadata": {},
     "output_type": "execute_result"
    }
   ],
   "source": [
    "f_value, p_value = f_oneway(data['dataset1'], data['dataset2'], data['dataset3'])\n",
    "p_value"
   ]
  },
  {
   "cell_type": "code",
   "execution_count": 33,
   "metadata": {},
   "outputs": [
    {
     "name": "stdout",
     "output_type": "stream",
     "text": [
      "    0   1   2\n",
      "0  Fi  No  Sw\n",
      "1  Sw  Sw  Fi\n",
      "2  Fi  No  No\n",
      "3  No  Fi  Sw\n",
      "4  Sw  Fi  Sw\n",
      "    0  1  2\n",
      "Fi  3  3  1\n",
      "No  1  2  2\n",
      "Sw  2  1  3\n"
     ]
    },
    {
     "data": {
      "text/plain": [
       "0.6369783501089177"
      ]
     },
     "execution_count": 33,
     "metadata": {},
     "output_type": "execute_result"
    }
   ],
   "source": [
    "d = pd.Series(['Fi','Sw','Fi','No','Sw','Fi' ])\n",
    "e = pd.Series(['No','Sw','No','Fi','Fi','Fi' ])\n",
    "f = pd.Series(['Sw','Fi','No','Sw','Sw','No'])\n",
    "\n",
    "df = pd.concat([d,e,f],axis=1)\n",
    "print(df.head())\n",
    "counts = df.apply(pd.Series.value_counts)\n",
    "print(counts)\n",
    "chi2_contingency(counts)[1]"
   ]
  },
  {
   "cell_type": "code",
   "execution_count": 26,
   "metadata": {},
   "outputs": [
    {
     "name": "stdout",
     "output_type": "stream",
     "text": [
      "0    2.0\n",
      "1    5.5\n",
      "2    2.0\n",
      "3    4.0\n",
      "4    5.5\n",
      "5    2.0\n",
      "dtype: float64\n",
      "0    4.5\n",
      "1    6.0\n",
      "2    4.5\n",
      "3    2.0\n",
      "4    2.0\n",
      "5    2.0\n",
      "dtype: float64\n",
      "0    5.0\n",
      "1    1.0\n",
      "2    2.0\n",
      "3    5.0\n",
      "4    5.0\n",
      "5    3.0\n",
      "dtype: float64\n"
     ]
    }
   ],
   "source": [
    "rd = d.rank()\n",
    "re = e.rank()\n",
    "rf = f.rank()\n",
    "\n",
    "print(rd)\n",
    "print(re)\n",
    "print(rf)"
   ]
  },
  {
   "cell_type": "code",
   "execution_count": 27,
   "metadata": {},
   "outputs": [
    {
     "data": {
      "text/plain": [
       "0.4638753145668235"
      ]
     },
     "execution_count": 27,
     "metadata": {},
     "output_type": "execute_result"
    }
   ],
   "source": [
    "chi2_contingency([rd,re,rf])[1]"
   ]
  }
 ],
 "metadata": {
  "kernelspec": {
   "display_name": "Python 3.9.12 ('base')",
   "language": "python",
   "name": "python3"
  },
  "language_info": {
   "codemirror_mode": {
    "name": "ipython",
    "version": 3
   },
   "file_extension": ".py",
   "mimetype": "text/x-python",
   "name": "python",
   "nbconvert_exporter": "python",
   "pygments_lexer": "ipython3",
   "version": "3.9.12"
  },
  "orig_nbformat": 4,
  "vscode": {
   "interpreter": {
    "hash": "d42dc6fcedbd3a87c2809a9053f4ea931977311ad3cd7f56b541a56ded475685"
   }
  }
 },
 "nbformat": 4,
 "nbformat_minor": 2
}
