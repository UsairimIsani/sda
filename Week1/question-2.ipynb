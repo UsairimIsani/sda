{
 "cells": [
  {
   "cell_type": "markdown",
   "metadata": {},
   "source": [
    "### Statistical Data Analysis \n",
    "MDP Health Technology"
   ]
  },
  {
   "cell_type": "markdown",
   "metadata": {},
   "source": [
    "## Article # 1"
   ]
  },
  {
   "cell_type": "markdown",
   "metadata": {},
   "source": [
    "Patients : 1234\n",
    "\n",
    "21 Features for ML model\n",
    "\n",
    "4 Demographic\n",
    "\n",
    "8 Clinical\n",
    "\n",
    "9 Functional Variables"
   ]
  },
  {
   "cell_type": "markdown",
   "metadata": {},
   "source": [
    "## Variables\n",
    "\n",
    " ### Variable -  Variable Type\n",
    " \n",
    " #### Demographic\n",
    " \n",
    " 1. Sex -  Nominal\n",
    " 2. Age - Ordinal   - Explained: should be ratio because number and has a absolute zero point   \n",
    " 3. BMI - Ratio \n",
    " 4. Family History of CAD - Indicator (Categorical)\n",
    " \n",
    "#### Clinical\n",
    " 1. Types of Chest Complaints (typical angina,\n",
    "atypical angina or non-anginal) - Nominal\n",
    " 2. Type 2 Diabetes mellitus - Indicator\n",
    " 3. Smoking - Indicator\n",
    " 4. dyslipidemia - ? - Explained: Percentage, Nominal - Henry\n",
    " 5. hypertension - Indicator\n",
    " 6. Rest Heart Rate - ratio\n",
    " 7. resting systolic and diastolic blood pressure - ratio\n",
    " 8. Rest ECG - ratio\n",
    " 9. stress ECG - ratio \n",
    " 10. stress HR - ratio, \n",
    " 11. % of max HR - ratio, \n",
    " 12. stress systolic and diastolic BP - ratio\n",
    " 13. rest LVEF, and stress LVEF - ? - Explained: Ration because of percentage"
   ]
  },
  {
   "cell_type": "markdown",
   "metadata": {},
   "source": [
    "# Article # 2 \n",
    "\n",
    "## Variables\n",
    "\n",
    " ### Variable -  Variable Type\n",
    " \n"
   ]
  }
 ],
 "metadata": {
  "kernelspec": {
   "display_name": "Python 3.9.12 ('base')",
   "language": "python",
   "name": "python3"
  },
  "language_info": {
   "name": "python",
   "version": "3.9.12"
  },
  "orig_nbformat": 4,
  "vscode": {
   "interpreter": {
    "hash": "d42dc6fcedbd3a87c2809a9053f4ea931977311ad3cd7f56b541a56ded475685"
   }
  }
 },
 "nbformat": 4,
 "nbformat_minor": 2
}
