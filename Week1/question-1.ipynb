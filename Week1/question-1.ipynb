{
 "cells": [
  {
   "cell_type": "markdown",
   "metadata": {},
   "source": [
    "### Statistical Data Analysis \n",
    "MDP Health Technology"
   ]
  },
  {
   "cell_type": "code",
   "execution_count": 2,
   "metadata": {},
   "outputs": [],
   "source": [
    "a = [5, 8, 7, 6, 7, 8]\n",
    "b = [1.3, 2.1, 1.7, 1.1, 1.4, 2.3 ]\n",
    "c = ['y', 'y', 'n', 'y', 'n', 'n']"
   ]
  },
  {
   "cell_type": "markdown",
   "metadata": {},
   "source": [
    "### Question # 1\n",
    "\n",
    "Combine the vectors into a data matrix with 3 columns and 6 rows. From the data matrix\n",
    "\n",
    "a) print element (3,2).\n",
    "\n",
    "b) print the 4th row.\n",
    "\n",
    "c) create submatrix of 2 last columns and rows 2-5.\n",
    "\n",
    "d) transpose the data matrix so that it has 6 columns and 3 rows."
   ]
  },
  {
   "cell_type": "code",
   "execution_count": 5,
   "metadata": {},
   "outputs": [
    {
     "name": "stdout",
     "output_type": "stream",
     "text": [
      "[['5' '8' '7']\n",
      " ['6' '7' '8']\n",
      " ['1.3' '2.1' '1.7']\n",
      " ['1.1' '1.4' '2.3']\n",
      " ['y' 'y' 'n']\n",
      " ['y' 'n' 'n']]\n"
     ]
    }
   ],
   "source": [
    "# Using numpy for matrix manipulation\n",
    "import numpy as np\n",
    "\n",
    "# Merging all arrays \n",
    "matrix = np.concatenate((a,b,c))\n",
    "\n",
    "# Changing the Shape to 3 columns and 6 Rows\n",
    "# (6,3) = (Rows, Columns)\n",
    "matrix.shape = (6,3)\n",
    "\n",
    "print(matrix)"
   ]
  },
  {
   "cell_type": "markdown",
   "metadata": {},
   "source": [
    "a) Print element (3,2)"
   ]
  },
  {
   "cell_type": "code",
   "execution_count": 7,
   "metadata": {},
   "outputs": [
    {
     "name": "stdout",
     "output_type": "stream",
     "text": [
      "2.3\n"
     ]
    }
   ],
   "source": [
    "ans_a = matrix[3,2]\n",
    "\n",
    "print(ans_a)"
   ]
  },
  {
   "cell_type": "markdown",
   "metadata": {},
   "source": [
    "b) Print the Fourth Row"
   ]
  },
  {
   "cell_type": "code",
   "execution_count": 11,
   "metadata": {},
   "outputs": [
    {
     "name": "stdout",
     "output_type": "stream",
     "text": [
      "['1.1' '1.4' '2.3']\n"
     ]
    }
   ],
   "source": [
    "ans_b = matrix[3,:]\n",
    "print(ans_b)"
   ]
  },
  {
   "cell_type": "markdown",
   "metadata": {},
   "source": [
    "c) create submatrix of 2 last columns and rows 2-5.\n"
   ]
  },
  {
   "cell_type": "code",
   "execution_count": 10,
   "metadata": {},
   "outputs": [
    {
     "name": "stdout",
     "output_type": "stream",
     "text": [
      "[['7' '8']\n",
      " ['2.1' '1.7']\n",
      " ['1.4' '2.3']\n",
      " ['y' 'n']\n",
      " ['n' 'n']]\n"
     ]
    }
   ],
   "source": [
    "ans_c = matrix[1:6,1:]\n",
    "print(ans_c)"
   ]
  },
  {
   "cell_type": "markdown",
   "metadata": {},
   "source": [
    "d) transpose the data matrix so that it has 6 columns and 3 rows."
   ]
  },
  {
   "cell_type": "code",
   "execution_count": 12,
   "metadata": {},
   "outputs": [
    {
     "name": "stdout",
     "output_type": "stream",
     "text": [
      "[['5' '6' '1.3' '1.1' 'y' 'y']\n",
      " ['8' '7' '2.1' '1.4' 'y' 'n']\n",
      " ['7' '8' '1.7' '2.3' 'n' 'n']]\n"
     ]
    }
   ],
   "source": [
    "transposed_matrix = matrix.T\n",
    "print(transposed_matrix)"
   ]
  },
  {
   "cell_type": "code",
   "execution_count": null,
   "metadata": {},
   "outputs": [],
   "source": []
  }
 ],
 "metadata": {
  "kernelspec": {
   "display_name": "Python 3.9.12 ('base')",
   "language": "python",
   "name": "python3"
  },
  "language_info": {
   "codemirror_mode": {
    "name": "ipython",
    "version": 3
   },
   "file_extension": ".py",
   "mimetype": "text/x-python",
   "name": "python",
   "nbconvert_exporter": "python",
   "pygments_lexer": "ipython3",
   "version": "3.9.12"
  },
  "orig_nbformat": 4,
  "vscode": {
   "interpreter": {
    "hash": "d42dc6fcedbd3a87c2809a9053f4ea931977311ad3cd7f56b541a56ded475685"
   }
  }
 },
 "nbformat": 4,
 "nbformat_minor": 2
}
