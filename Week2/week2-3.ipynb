{
 "cells": [
  {
   "cell_type": "markdown",
   "metadata": {},
   "source": [
    "# Week # 2 \n",
    "## Question # 3\n",
    "\n",
    "\n",
    "Groups D and E have the same variable measured before (test) and after medication\n",
    "(retest). Select right statistical test and find P-values.\n",
    "\n",
    "1. Compare test and retest results for group D.\n",
    "2. Compare test and retest results for group E.\n",
    "3. Compare test results for group D and E.\n",
    "4. Compare retest results for group D and E.\n",
    "\n",
    "Group_D\n",
    "\n",
    "Test: 5.6, 3.1, 8.7, 4.5, 6.7, 4.5\n",
    "\n",
    "Retest: 6.1, 5.8, 8.5, 5.3, 7.2, 5.1\n",
    "\n",
    "Group E\n",
    "\n",
    "Test: 4.5, 3.9, 7.1, 4.3, 6.9, 8.2, 7.6\n",
    "\n",
    "Retest: 4.9, 4.7, 7.8, 4.8, 7.5, 7.8, 8.1\n"
   ]
  },
  {
   "cell_type": "code",
   "execution_count": 19,
   "metadata": {},
   "outputs": [],
   "source": [
    "import math\n",
    "import numpy as np\n",
    "from scipy.stats import shapiro, kstest, ttest_ind, ttest_rel, mannwhitneyu, wilcoxon\n",
    "import matplotlib.pyplot as plt\n",
    "import pandas as pd"
   ]
  },
  {
   "cell_type": "code",
   "execution_count": 20,
   "metadata": {},
   "outputs": [],
   "source": [
    "group_d_test = pd.Series((5.6, 3.1, 8.7, 4.5, 6.7, 4.5))\n",
    "group_d_retest = pd.Series((6.1, 5.8, 8.5, 5.3, 7.2, 5.1))\n",
    "group_e_test = pd.Series((4.5, 3.9, 7.1, 4.3, 6.9, 8.2, 7.6))\n",
    "group_e_retest = pd.Series((4.9, 4.7, 7.8, 4.8, 7.5, 7.8, 8.1))"
   ]
  },
  {
   "cell_type": "code",
   "execution_count": 21,
   "metadata": {},
   "outputs": [
    {
     "name": "stdout",
     "output_type": "stream",
     "text": [
      "Is Normal Group D test :  True\n",
      "Is Normal Group D retest :  True\n",
      "Is Normal Group E test :  True\n",
      "Is Normal Group E retest :  False\n"
     ]
    }
   ],
   "source": [
    "is_d_test_normal = shapiro(group_d_test)[1]>=0.05\n",
    "is_d_retest_normal = shapiro(group_d_retest)[1]>=0.05\n",
    "\n",
    "is_e_test_normal = shapiro(group_e_test)[1]>=0.05\n",
    "is_e_retest_normal = shapiro(group_e_retest)[1]>=0.05\n",
    "\n",
    "print(\"Is Normal Group D test : \",is_d_test_normal)\n",
    "print(\"Is Normal Group D retest : \",is_d_retest_normal)\n",
    "print(\"Is Normal Group E test : \",is_e_test_normal)\n",
    "print(\"Is Normal Group E retest : \",is_e_retest_normal)"
   ]
  },
  {
   "cell_type": "code",
   "execution_count": 22,
   "metadata": {},
   "outputs": [
    {
     "data": {
      "text/plain": [
       "Ttest_relResult(statistic=-2.0356674603124167, pvalue=0.09740501217589806)"
      ]
     },
     "execution_count": 22,
     "metadata": {},
     "output_type": "execute_result"
    }
   ],
   "source": [
    "ttest_rel(group_d_test,group_d_retest)"
   ]
  },
  {
   "cell_type": "markdown",
   "metadata": {},
   "source": [
    "> Used ttest rel because group_d_test and group_d_retest are normal and paired\n",
    "\n",
    "similar"
   ]
  },
  {
   "cell_type": "code",
   "execution_count": 23,
   "metadata": {},
   "outputs": [
    {
     "data": {
      "text/plain": [
       "WilcoxonResult(statistic=1.0, pvalue=0.03125)"
      ]
     },
     "execution_count": 23,
     "metadata": {},
     "output_type": "execute_result"
    }
   ],
   "source": [
    "wilcoxon(group_e_test,group_e_retest)"
   ]
  },
  {
   "cell_type": "markdown",
   "metadata": {},
   "source": [
    "> Used wilcoxon because group_e_test is normal and group_e_retest is not normal and both are paired.\n",
    "\n",
    "Not similar "
   ]
  },
  {
   "cell_type": "code",
   "execution_count": 24,
   "metadata": {},
   "outputs": [
    {
     "data": {
      "text/plain": [
       "Ttest_indResult(statistic=-0.5338123773806961, pvalue=0.6040909505950958)"
      ]
     },
     "execution_count": 24,
     "metadata": {},
     "output_type": "execute_result"
    }
   ],
   "source": [
    "ttest_ind(group_d_test,group_e_test)"
   ]
  },
  {
   "cell_type": "markdown",
   "metadata": {},
   "source": [
    "> Used ttest_ind because unpaired and normal\n",
    "\n",
    "similar"
   ]
  },
  {
   "cell_type": "code",
   "execution_count": 25,
   "metadata": {},
   "outputs": [
    {
     "data": {
      "text/plain": [
       "MannwhitneyuResult(statistic=22.0, pvalue=0.9429784240576059)"
      ]
     },
     "execution_count": 25,
     "metadata": {},
     "output_type": "execute_result"
    }
   ],
   "source": [
    "mannwhitneyu(group_d_retest,group_e_retest)"
   ]
  },
  {
   "cell_type": "markdown",
   "metadata": {},
   "source": [
    "> used mannwhiteneyu because unpaired and not normal\n",
    "\n",
    "very similar"
   ]
  }
 ],
 "metadata": {
  "kernelspec": {
   "display_name": "Python 3.9.12 ('base')",
   "language": "python",
   "name": "python3"
  },
  "language_info": {
   "codemirror_mode": {
    "name": "ipython",
    "version": 3
   },
   "file_extension": ".py",
   "mimetype": "text/x-python",
   "name": "python",
   "nbconvert_exporter": "python",
   "pygments_lexer": "ipython3",
   "version": "3.9.12"
  },
  "orig_nbformat": 4,
  "vscode": {
   "interpreter": {
    "hash": "d42dc6fcedbd3a87c2809a9053f4ea931977311ad3cd7f56b541a56ded475685"
   }
  }
 },
 "nbformat": 4,
 "nbformat_minor": 2
}
