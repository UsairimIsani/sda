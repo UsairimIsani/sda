{
 "cells": [
  {
   "cell_type": "markdown",
   "metadata": {},
   "source": [
    "# Week # 2\n",
    "Question # 2\n",
    "\n",
    "Browse through the following two articles\n",
    "   \n",
    "Article 2: W. He et al., High-salt diet inhibits tumour growth in mice via regulating myeloid-\n",
    "derived suppressor cell differentiation, PMID: 32265505\n",
    "\n",
    "Article 3: M.S. Venäläinen et al., Easy-to-use tool for evaluating the elevated acute kidney\n",
    "injury risk against reduced cardiovascular disease risk during intensive blood pressure\n",
    "control, PMID: 31977572\n",
    "\n",
    "For Article_2 determine\n",
    "\n",
    "1. What kind of statistical tests were used in Figure 1?\n",
    "2. What kind of statistical tests were used in Figure 2?\n",
    "3. What kind of statistical tests were used in Figure 4 a,b?\n",
    "4. What kind of statistical tests were used in Figure 4 e,f?\n",
    "\n",
    "In Article_3, caption of table 1 it reads \n",
    "> “There were no significant differences (P < 0.05) between training and test cohorts for any variable”. \n",
    "\n",
    "\n",
    "Which tests were used? (Or, which test do you think were used?)\n",
    "\n",
    "\n"
   ]
  },
  {
   "cell_type": "markdown",
   "metadata": {},
   "source": [
    "## Article # 2\n",
    "\n",
    "Figure # 1 -  two-tailed Wilcoxon rank-sum tests\n",
    "\n",
    "Figure # 2 -  two-tailed Wilcoxon rank-sum tests\n",
    "\n",
    "Figure # 4a,b - One-way ANOVA with post hoc Bonferroni correction\n",
    "\n",
    "Figure # 4e,f - Two-tailed Student’s t test"
   ]
  },
  {
   "cell_type": "markdown",
   "metadata": {},
   "source": [
    "# Article # 3\n",
    "\n",
    "\n",
    "Paired Student's t-test"
   ]
  }
 ],
 "metadata": {
  "kernelspec": {
   "display_name": "Python 3.9.12 ('base')",
   "language": "python",
   "name": "python3"
  },
  "language_info": {
   "name": "python",
   "version": "3.9.12"
  },
  "orig_nbformat": 4,
  "vscode": {
   "interpreter": {
    "hash": "d42dc6fcedbd3a87c2809a9053f4ea931977311ad3cd7f56b541a56ded475685"
   }
  }
 },
 "nbformat": 4,
 "nbformat_minor": 2
}
