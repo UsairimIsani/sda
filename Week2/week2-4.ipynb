{
 "cells": [
  {
   "cell_type": "markdown",
   "metadata": {},
   "source": [
    "# Week # 2\n",
    "Question # 4\n",
    "\n",
    "Consider correlation between group E test and group E retest in Exercise 3.\n",
    "\n",
    "1. Pearson correlation and related P-value.\n",
    "2. Spearman correlation and related P-value.\n",
    "3. Rank the two groups. (For same values use half. E.g. if there are two values with the\n",
    "smallest value, then rank them both 1.5.)\n",
    "4. Pearson correlation and related P-value of the ranking obtained in 3).\n"
   ]
  },
  {
   "cell_type": "code",
   "execution_count": 3,
   "metadata": {},
   "outputs": [],
   "source": [
    "import math\n",
    "import numpy as np\n",
    "from scipy.stats import shapiro, kstest, ttest_ind, ttest_rel, mannwhitneyu, wilcoxon, pearsonr, spearmanr\n",
    "import matplotlib.pyplot as plt\n",
    "import pandas as pd"
   ]
  },
  {
   "cell_type": "code",
   "execution_count": 2,
   "metadata": {},
   "outputs": [],
   "source": [
    "group_e_test = pd.Series((4.5, 3.9, 7.1, 4.3, 6.9, 8.2, 7.6))\n",
    "group_e_retest = pd.Series((4.9, 4.7, 7.8, 4.8, 7.5, 7.8, 8.1))"
   ]
  },
  {
   "cell_type": "code",
   "execution_count": 4,
   "metadata": {},
   "outputs": [
    {
     "data": {
      "text/plain": [
       "(0.9773664314916521, 0.00014623458861244028)"
      ]
     },
     "execution_count": 4,
     "metadata": {},
     "output_type": "execute_result"
    }
   ],
   "source": [
    "pearsonr(group_e_test,group_e_retest)"
   ]
  },
  {
   "cell_type": "code",
   "execution_count": 5,
   "metadata": {},
   "outputs": [
    {
     "data": {
      "text/plain": [
       "SpearmanrResult(correlation=0.9369749612033814, pvalue=0.0018510301964418906)"
      ]
     },
     "execution_count": 5,
     "metadata": {},
     "output_type": "execute_result"
    }
   ],
   "source": [
    "spearmanr(group_e_test,group_e_retest)"
   ]
  },
  {
   "cell_type": "code",
   "execution_count": 6,
   "metadata": {},
   "outputs": [],
   "source": [
    "# group_e_test = pd.Series((4.5, 3.9, 7.1, 4.3, 6.9, 8.2, 7.6))\n",
    "                        #    5, 7,     3,     6,   4,  1,    2,\n",
    "rank_group_e_test = pd.Series((5,7,3,6,4,1,2))\n",
    "\n",
    "# group_e_retest = pd.Series((4.9, 4.7, 7.8, 4.8, 7.5, 7.8, 8.1))\n",
    "#                              4    6   2.5    5    3    2.5  1\n",
    "rank_group_e_retest = pd.Series((4,6,2.5,5,3,2.5,1))"
   ]
  },
  {
   "cell_type": "code",
   "execution_count": 7,
   "metadata": {},
   "outputs": [
    {
     "data": {
      "text/plain": [
       "(0.9109750373485539, 0.004327132201434905)"
      ]
     },
     "execution_count": 7,
     "metadata": {},
     "output_type": "execute_result"
    }
   ],
   "source": [
    "pearsonr(rank_group_e_test,rank_group_e_retest)"
   ]
  }
 ],
 "metadata": {
  "kernelspec": {
   "display_name": "Python 3.9.12 ('base')",
   "language": "python",
   "name": "python3"
  },
  "language_info": {
   "codemirror_mode": {
    "name": "ipython",
    "version": 3
   },
   "file_extension": ".py",
   "mimetype": "text/x-python",
   "name": "python",
   "nbconvert_exporter": "python",
   "pygments_lexer": "ipython3",
   "version": "3.9.12"
  },
  "orig_nbformat": 4,
  "vscode": {
   "interpreter": {
    "hash": "d42dc6fcedbd3a87c2809a9053f4ea931977311ad3cd7f56b541a56ded475685"
   }
  }
 },
 "nbformat": 4,
 "nbformat_minor": 2
}
